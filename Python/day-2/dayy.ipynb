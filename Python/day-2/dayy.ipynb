{
 "cells": [
  {
   "cell_type": "code",
   "execution_count": null,
   "id": "5b23f095",
   "metadata": {},
   "outputs": [],
   "source": [
    "print(\"Hello)"
   ]
  },
  {
   "cell_type": "code",
   "execution_count": null,
   "id": "25fdd484",
   "metadata": {},
   "outputs": [],
   "source": [
    "Print(\"Hello\")"
   ]
  },
  {
   "cell_type": "code",
   "execution_count": null,
   "id": "67b37bf0",
   "metadata": {},
   "outputs": [],
   "source": [
    "Print(\"Hello\")"
   ]
  },
  {
   "cell_type": "code",
   "execution_count": 2,
   "id": "86f842bb",
   "metadata": {},
   "outputs": [
    {
     "name": "stdout",
     "output_type": "stream",
     "text": [
      "Hello\n"
     ]
    }
   ],
   "source": [
    "print(\"Hello\")"
   ]
  },
  {
   "cell_type": "markdown",
   "id": "7f50ce70",
   "metadata": {},
   "source": [
    "Hello\n"
   ]
  },
  {
   "cell_type": "code",
   "execution_count": 3,
   "id": "236af4be",
   "metadata": {},
   "outputs": [],
   "source": [
    "#here \n"
   ]
  },
  {
   "cell_type": "markdown",
   "id": "1b243b69",
   "metadata": {},
   "source": [
    "Hello"
   ]
  },
  {
   "cell_type": "markdown",
   "id": "04ffe0fd",
   "metadata": {},
   "source": []
  }
 ],
 "metadata": {
  "kernelspec": {
   "display_name": "Python 3",
   "language": "python",
   "name": "python3"
  },
  "language_info": {
   "codemirror_mode": {
    "name": "ipython",
    "version": 3
   },
   "file_extension": ".py",
   "mimetype": "text/x-python",
   "name": "python",
   "nbconvert_exporter": "python",
   "pygments_lexer": "ipython3",
   "version": "3.13.7"
  }
 },
 "nbformat": 4,
 "nbformat_minor": 5
}
