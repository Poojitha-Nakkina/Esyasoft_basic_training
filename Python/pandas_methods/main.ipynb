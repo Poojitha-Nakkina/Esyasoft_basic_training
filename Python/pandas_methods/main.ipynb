{
 "cells": [
  {
   "cell_type": "markdown",
   "id": "34ac576d",
   "metadata": {},
   "source": [
    "# PANDAS\n"
   ]
  },
  {
   "cell_type": "markdown",
   "id": "c7392492",
   "metadata": {},
   "source": [
    "! pip install pandas\n"
   ]
  },
  {
   "cell_type": "markdown",
   "id": "dbc79b47",
   "metadata": {},
   "source": []
  },
  {
   "cell_type": "code",
   "execution_count": 1,
   "id": "56af6d35",
   "metadata": {},
   "outputs": [
    {
     "name": "stdout",
     "output_type": "stream",
     "text": [
      "Requirement already satisfied: pandas in c:\\users\\user\\appdata\\local\\programs\\python\\python313\\lib\\site-packages (2.3.2)\n",
      "Requirement already satisfied: numpy>=1.26.0 in c:\\users\\user\\appdata\\local\\programs\\python\\python313\\lib\\site-packages (from pandas) (2.3.2)\n",
      "Requirement already satisfied: python-dateutil>=2.8.2 in c:\\users\\user\\appdata\\roaming\\python\\python313\\site-packages (from pandas) (2.9.0.post0)\n",
      "Requirement already satisfied: pytz>=2020.1 in c:\\users\\user\\appdata\\local\\programs\\python\\python313\\lib\\site-packages (from pandas) (2025.2)\n",
      "Requirement already satisfied: tzdata>=2022.7 in c:\\users\\user\\appdata\\local\\programs\\python\\python313\\lib\\site-packages (from pandas) (2025.2)\n",
      "Requirement already satisfied: six>=1.5 in c:\\users\\user\\appdata\\roaming\\python\\python313\\site-packages (from python-dateutil>=2.8.2->pandas) (1.17.0)\n"
     ]
    }
   ],
   "source": [
    "! pip install pandas"
   ]
  },
  {
   "cell_type": "code",
   "execution_count": null,
   "id": "566ed565",
   "metadata": {},
   "outputs": [],
   "source": []
  },
  {
   "cell_type": "markdown",
   "id": "2cb18886",
   "metadata": {},
   "source": [
    "CSV FILE  (comma separated values)  \n",
    "To read csv files in pandas ->  pd.read_csv(\"path\")"
   ]
  },
  {
   "cell_type": "code",
   "execution_count": 2,
   "id": "aa441ac4",
   "metadata": {},
   "outputs": [],
   "source": [
    "import pandas as pd\n",
    "\n",
    "df = pd.read_csv(\"/Esyasoft_basic_training/Python/pandas_methods/multi.csv\")"
   ]
  },
  {
   "cell_type": "code",
   "execution_count": 3,
   "id": "80a9e41f",
   "metadata": {},
   "outputs": [
    {
     "data": {
      "text/html": [
       "<div>\n",
       "<style scoped>\n",
       "    .dataframe tbody tr th:only-of-type {\n",
       "        vertical-align: middle;\n",
       "    }\n",
       "\n",
       "    .dataframe tbody tr th {\n",
       "        vertical-align: top;\n",
       "    }\n",
       "\n",
       "    .dataframe thead th {\n",
       "        text-align: right;\n",
       "    }\n",
       "</style>\n",
       "<table border=\"1\" class=\"dataframe\">\n",
       "  <thead>\n",
       "    <tr style=\"text-align: right;\">\n",
       "      <th></th>\n",
       "      <th>review_id</th>\n",
       "      <th>user_id</th>\n",
       "      <th>app_name</th>\n",
       "      <th>app_category</th>\n",
       "      <th>review_text</th>\n",
       "      <th>review_language</th>\n",
       "      <th>rating</th>\n",
       "      <th>review_date</th>\n",
       "      <th>verified_purchase</th>\n",
       "      <th>device_type</th>\n",
       "      <th>num_helpful_votes</th>\n",
       "      <th>user_age</th>\n",
       "      <th>user_country</th>\n",
       "      <th>user_gender</th>\n",
       "      <th>app_version</th>\n",
       "    </tr>\n",
       "  </thead>\n",
       "  <tbody>\n",
       "    <tr>\n",
       "      <th>0</th>\n",
       "      <td>1</td>\n",
       "      <td>1967825</td>\n",
       "      <td>MX Player</td>\n",
       "      <td>Travel &amp; Local</td>\n",
       "      <td>Qui doloribus consequuntur. Perspiciatis tempo...</td>\n",
       "      <td>no</td>\n",
       "      <td>1.3</td>\n",
       "      <td>2024-10-09 19:26:40</td>\n",
       "      <td>True</td>\n",
       "      <td>Android Tablet</td>\n",
       "      <td>65</td>\n",
       "      <td>14.0</td>\n",
       "      <td>China</td>\n",
       "      <td>Female</td>\n",
       "      <td>1.4</td>\n",
       "    </tr>\n",
       "    <tr>\n",
       "      <th>1</th>\n",
       "      <td>2</td>\n",
       "      <td>9242600</td>\n",
       "      <td>Tinder</td>\n",
       "      <td>Navigation</td>\n",
       "      <td>Great app but too many ads, consider premium v...</td>\n",
       "      <td>ru</td>\n",
       "      <td>1.6</td>\n",
       "      <td>2024-06-21 17:29:40</td>\n",
       "      <td>True</td>\n",
       "      <td>iPad</td>\n",
       "      <td>209</td>\n",
       "      <td>18.0</td>\n",
       "      <td>Germany</td>\n",
       "      <td>Male</td>\n",
       "      <td>8.9</td>\n",
       "    </tr>\n",
       "    <tr>\n",
       "      <th>2</th>\n",
       "      <td>3</td>\n",
       "      <td>7636477</td>\n",
       "      <td>Netflix</td>\n",
       "      <td>Dating</td>\n",
       "      <td>The interface could be better but overall good...</td>\n",
       "      <td>es</td>\n",
       "      <td>3.6</td>\n",
       "      <td>2024-10-31 13:47:12</td>\n",
       "      <td>True</td>\n",
       "      <td>iPad</td>\n",
       "      <td>163</td>\n",
       "      <td>67.0</td>\n",
       "      <td>Nigeria</td>\n",
       "      <td>Male</td>\n",
       "      <td>2.8.37.5926</td>\n",
       "    </tr>\n",
       "    <tr>\n",
       "      <th>3</th>\n",
       "      <td>4</td>\n",
       "      <td>209031</td>\n",
       "      <td>Venmo</td>\n",
       "      <td>Productivity</td>\n",
       "      <td>Latest update broke some features, please fix ...</td>\n",
       "      <td>vi</td>\n",
       "      <td>3.8</td>\n",
       "      <td>2025-03-12 06:16:22</td>\n",
       "      <td>True</td>\n",
       "      <td>iOS</td>\n",
       "      <td>664</td>\n",
       "      <td>66.0</td>\n",
       "      <td>India</td>\n",
       "      <td>Female</td>\n",
       "      <td>10.2</td>\n",
       "    </tr>\n",
       "    <tr>\n",
       "      <th>4</th>\n",
       "      <td>5</td>\n",
       "      <td>7190293</td>\n",
       "      <td>Google Drive</td>\n",
       "      <td>Education</td>\n",
       "      <td>Perfect for daily use, highly recommend to eve...</td>\n",
       "      <td>tl</td>\n",
       "      <td>3.2</td>\n",
       "      <td>2024-04-21 03:48:27</td>\n",
       "      <td>True</td>\n",
       "      <td>iPad</td>\n",
       "      <td>1197</td>\n",
       "      <td>40.0</td>\n",
       "      <td>South Korea</td>\n",
       "      <td>Prefer not to say</td>\n",
       "      <td>4.7</td>\n",
       "    </tr>\n",
       "    <tr>\n",
       "      <th>...</th>\n",
       "      <td>...</td>\n",
       "      <td>...</td>\n",
       "      <td>...</td>\n",
       "      <td>...</td>\n",
       "      <td>...</td>\n",
       "      <td>...</td>\n",
       "      <td>...</td>\n",
       "      <td>...</td>\n",
       "      <td>...</td>\n",
       "      <td>...</td>\n",
       "      <td>...</td>\n",
       "      <td>...</td>\n",
       "      <td>...</td>\n",
       "      <td>...</td>\n",
       "      <td>...</td>\n",
       "    </tr>\n",
       "    <tr>\n",
       "      <th>2509</th>\n",
       "      <td>2510</td>\n",
       "      <td>2322118</td>\n",
       "      <td>OneDrive</td>\n",
       "      <td>Business</td>\n",
       "      <td>Счастье низкий пастух. Нож неожиданно поезд тр...</td>\n",
       "      <td>nl</td>\n",
       "      <td>3.0</td>\n",
       "      <td>2023-11-23 01:07:30</td>\n",
       "      <td>False</td>\n",
       "      <td>iOS</td>\n",
       "      <td>635</td>\n",
       "      <td>21.0</td>\n",
       "      <td>Malaysia</td>\n",
       "      <td>Non-binary</td>\n",
       "      <td>1.1.2-beta</td>\n",
       "    </tr>\n",
       "    <tr>\n",
       "      <th>2510</th>\n",
       "      <td>2511</td>\n",
       "      <td>2167693</td>\n",
       "      <td>Signal</td>\n",
       "      <td>Finance</td>\n",
       "      <td>This app is amazing! Really love the new featu...</td>\n",
       "      <td>ms</td>\n",
       "      <td>1.9</td>\n",
       "      <td>2025-06-05 16:42:20</td>\n",
       "      <td>True</td>\n",
       "      <td>Windows Phone</td>\n",
       "      <td>1127</td>\n",
       "      <td>38.0</td>\n",
       "      <td>Bangladesh</td>\n",
       "      <td>NaN</td>\n",
       "      <td>v12.0.80</td>\n",
       "    </tr>\n",
       "    <tr>\n",
       "      <th>2511</th>\n",
       "      <td>2512</td>\n",
       "      <td>5554467</td>\n",
       "      <td>OneDrive</td>\n",
       "      <td>Social Networking</td>\n",
       "      <td>This app is amazing! Really love the new featu...</td>\n",
       "      <td>zh</td>\n",
       "      <td>3.4</td>\n",
       "      <td>2024-06-15 05:02:18</td>\n",
       "      <td>True</td>\n",
       "      <td>Android Tablet</td>\n",
       "      <td>677</td>\n",
       "      <td>27.0</td>\n",
       "      <td>Pakistan</td>\n",
       "      <td>NaN</td>\n",
       "      <td>9.1.32.4821</td>\n",
       "    </tr>\n",
       "    <tr>\n",
       "      <th>2512</th>\n",
       "      <td>2513</td>\n",
       "      <td>8805125</td>\n",
       "      <td>Coursera</td>\n",
       "      <td>Social Networking</td>\n",
       "      <td>Invitare convincere pericoloso corsa fortuna. ...</td>\n",
       "      <td>da</td>\n",
       "      <td>2.7</td>\n",
       "      <td>2023-12-02 01:41:31</td>\n",
       "      <td>True</td>\n",
       "      <td>Android</td>\n",
       "      <td>155</td>\n",
       "      <td>35.0</td>\n",
       "      <td>India</td>\n",
       "      <td>NaN</td>\n",
       "      <td>v8.9.13</td>\n",
       "    </tr>\n",
       "    <tr>\n",
       "      <th>2513</th>\n",
       "      <td>2514</td>\n",
       "      <td>1099793</td>\n",
       "      <td>Venmo</td>\n",
       "      <td>Education</td>\n",
       "      <td>Latest update broke some features, please fix ...</td>\n",
       "      <td>it</td>\n",
       "      <td>2.1</td>\n",
       "      <td>2025-03-04 02:51:17</td>\n",
       "      <td>True</td>\n",
       "      <td>Android</td>\n",
       "      <td>1040</td>\n",
       "      <td>26.0</td>\n",
       "      <td>Bangladesh</td>\n",
       "      <td>Prefer not to say</td>\n",
       "      <td>2.2</td>\n",
       "    </tr>\n",
       "  </tbody>\n",
       "</table>\n",
       "<p>2514 rows × 15 columns</p>\n",
       "</div>"
      ],
      "text/plain": [
       "      review_id  user_id      app_name       app_category  \\\n",
       "0             1  1967825     MX Player     Travel & Local   \n",
       "1             2  9242600        Tinder         Navigation   \n",
       "2             3  7636477       Netflix             Dating   \n",
       "3             4   209031         Venmo       Productivity   \n",
       "4             5  7190293  Google Drive          Education   \n",
       "...         ...      ...           ...                ...   \n",
       "2509       2510  2322118      OneDrive           Business   \n",
       "2510       2511  2167693        Signal            Finance   \n",
       "2511       2512  5554467      OneDrive  Social Networking   \n",
       "2512       2513  8805125      Coursera  Social Networking   \n",
       "2513       2514  1099793         Venmo          Education   \n",
       "\n",
       "                                            review_text review_language  \\\n",
       "0     Qui doloribus consequuntur. Perspiciatis tempo...              no   \n",
       "1     Great app but too many ads, consider premium v...              ru   \n",
       "2     The interface could be better but overall good...              es   \n",
       "3     Latest update broke some features, please fix ...              vi   \n",
       "4     Perfect for daily use, highly recommend to eve...              tl   \n",
       "...                                                 ...             ...   \n",
       "2509  Счастье низкий пастух. Нож неожиданно поезд тр...              nl   \n",
       "2510  This app is amazing! Really love the new featu...              ms   \n",
       "2511  This app is amazing! Really love the new featu...              zh   \n",
       "2512  Invitare convincere pericoloso corsa fortuna. ...              da   \n",
       "2513  Latest update broke some features, please fix ...              it   \n",
       "\n",
       "      rating          review_date  verified_purchase     device_type  \\\n",
       "0        1.3  2024-10-09 19:26:40               True  Android Tablet   \n",
       "1        1.6  2024-06-21 17:29:40               True            iPad   \n",
       "2        3.6  2024-10-31 13:47:12               True            iPad   \n",
       "3        3.8  2025-03-12 06:16:22               True             iOS   \n",
       "4        3.2  2024-04-21 03:48:27               True            iPad   \n",
       "...      ...                  ...                ...             ...   \n",
       "2509     3.0  2023-11-23 01:07:30              False             iOS   \n",
       "2510     1.9  2025-06-05 16:42:20               True   Windows Phone   \n",
       "2511     3.4  2024-06-15 05:02:18               True  Android Tablet   \n",
       "2512     2.7  2023-12-02 01:41:31               True         Android   \n",
       "2513     2.1  2025-03-04 02:51:17               True         Android   \n",
       "\n",
       "      num_helpful_votes  user_age user_country        user_gender  app_version  \n",
       "0                    65      14.0        China             Female          1.4  \n",
       "1                   209      18.0      Germany               Male          8.9  \n",
       "2                   163      67.0      Nigeria               Male  2.8.37.5926  \n",
       "3                   664      66.0        India             Female         10.2  \n",
       "4                  1197      40.0  South Korea  Prefer not to say          4.7  \n",
       "...                 ...       ...          ...                ...          ...  \n",
       "2509                635      21.0     Malaysia         Non-binary   1.1.2-beta  \n",
       "2510               1127      38.0   Bangladesh                NaN     v12.0.80  \n",
       "2511                677      27.0     Pakistan                NaN  9.1.32.4821  \n",
       "2512                155      35.0        India                NaN      v8.9.13  \n",
       "2513               1040      26.0   Bangladesh  Prefer not to say          2.2  \n",
       "\n",
       "[2514 rows x 15 columns]"
      ]
     },
     "execution_count": 3,
     "metadata": {},
     "output_type": "execute_result"
    }
   ],
   "source": [
    "df"
   ]
  },
  {
   "cell_type": "code",
   "execution_count": 4,
   "id": "2a4ad5e7",
   "metadata": {},
   "outputs": [
    {
     "data": {
      "text/html": [
       "<div>\n",
       "<style scoped>\n",
       "    .dataframe tbody tr th:only-of-type {\n",
       "        vertical-align: middle;\n",
       "    }\n",
       "\n",
       "    .dataframe tbody tr th {\n",
       "        vertical-align: top;\n",
       "    }\n",
       "\n",
       "    .dataframe thead th {\n",
       "        text-align: right;\n",
       "    }\n",
       "</style>\n",
       "<table border=\"1\" class=\"dataframe\">\n",
       "  <thead>\n",
       "    <tr style=\"text-align: right;\">\n",
       "      <th></th>\n",
       "      <th>review_id</th>\n",
       "      <th>user_id</th>\n",
       "      <th>app_name</th>\n",
       "      <th>app_category</th>\n",
       "      <th>review_text</th>\n",
       "      <th>review_language</th>\n",
       "      <th>rating</th>\n",
       "      <th>review_date</th>\n",
       "      <th>verified_purchase</th>\n",
       "      <th>device_type</th>\n",
       "      <th>num_helpful_votes</th>\n",
       "      <th>user_age</th>\n",
       "      <th>user_country</th>\n",
       "      <th>user_gender</th>\n",
       "      <th>app_version</th>\n",
       "    </tr>\n",
       "  </thead>\n",
       "  <tbody>\n",
       "    <tr>\n",
       "      <th>0</th>\n",
       "      <td>1</td>\n",
       "      <td>1967825</td>\n",
       "      <td>MX Player</td>\n",
       "      <td>Travel &amp; Local</td>\n",
       "      <td>Qui doloribus consequuntur. Perspiciatis tempo...</td>\n",
       "      <td>no</td>\n",
       "      <td>1.3</td>\n",
       "      <td>2024-10-09 19:26:40</td>\n",
       "      <td>True</td>\n",
       "      <td>Android Tablet</td>\n",
       "      <td>65</td>\n",
       "      <td>14.0</td>\n",
       "      <td>China</td>\n",
       "      <td>Female</td>\n",
       "      <td>1.4</td>\n",
       "    </tr>\n",
       "    <tr>\n",
       "      <th>1</th>\n",
       "      <td>2</td>\n",
       "      <td>9242600</td>\n",
       "      <td>Tinder</td>\n",
       "      <td>Navigation</td>\n",
       "      <td>Great app but too many ads, consider premium v...</td>\n",
       "      <td>ru</td>\n",
       "      <td>1.6</td>\n",
       "      <td>2024-06-21 17:29:40</td>\n",
       "      <td>True</td>\n",
       "      <td>iPad</td>\n",
       "      <td>209</td>\n",
       "      <td>18.0</td>\n",
       "      <td>Germany</td>\n",
       "      <td>Male</td>\n",
       "      <td>8.9</td>\n",
       "    </tr>\n",
       "    <tr>\n",
       "      <th>2</th>\n",
       "      <td>3</td>\n",
       "      <td>7636477</td>\n",
       "      <td>Netflix</td>\n",
       "      <td>Dating</td>\n",
       "      <td>The interface could be better but overall good...</td>\n",
       "      <td>es</td>\n",
       "      <td>3.6</td>\n",
       "      <td>2024-10-31 13:47:12</td>\n",
       "      <td>True</td>\n",
       "      <td>iPad</td>\n",
       "      <td>163</td>\n",
       "      <td>67.0</td>\n",
       "      <td>Nigeria</td>\n",
       "      <td>Male</td>\n",
       "      <td>2.8.37.5926</td>\n",
       "    </tr>\n",
       "    <tr>\n",
       "      <th>3</th>\n",
       "      <td>4</td>\n",
       "      <td>209031</td>\n",
       "      <td>Venmo</td>\n",
       "      <td>Productivity</td>\n",
       "      <td>Latest update broke some features, please fix ...</td>\n",
       "      <td>vi</td>\n",
       "      <td>3.8</td>\n",
       "      <td>2025-03-12 06:16:22</td>\n",
       "      <td>True</td>\n",
       "      <td>iOS</td>\n",
       "      <td>664</td>\n",
       "      <td>66.0</td>\n",
       "      <td>India</td>\n",
       "      <td>Female</td>\n",
       "      <td>10.2</td>\n",
       "    </tr>\n",
       "    <tr>\n",
       "      <th>4</th>\n",
       "      <td>5</td>\n",
       "      <td>7190293</td>\n",
       "      <td>Google Drive</td>\n",
       "      <td>Education</td>\n",
       "      <td>Perfect for daily use, highly recommend to eve...</td>\n",
       "      <td>tl</td>\n",
       "      <td>3.2</td>\n",
       "      <td>2024-04-21 03:48:27</td>\n",
       "      <td>True</td>\n",
       "      <td>iPad</td>\n",
       "      <td>1197</td>\n",
       "      <td>40.0</td>\n",
       "      <td>South Korea</td>\n",
       "      <td>Prefer not to say</td>\n",
       "      <td>4.7</td>\n",
       "    </tr>\n",
       "  </tbody>\n",
       "</table>\n",
       "</div>"
      ],
      "text/plain": [
       "   review_id  user_id      app_name    app_category  \\\n",
       "0          1  1967825     MX Player  Travel & Local   \n",
       "1          2  9242600        Tinder      Navigation   \n",
       "2          3  7636477       Netflix          Dating   \n",
       "3          4   209031         Venmo    Productivity   \n",
       "4          5  7190293  Google Drive       Education   \n",
       "\n",
       "                                         review_text review_language  rating  \\\n",
       "0  Qui doloribus consequuntur. Perspiciatis tempo...              no     1.3   \n",
       "1  Great app but too many ads, consider premium v...              ru     1.6   \n",
       "2  The interface could be better but overall good...              es     3.6   \n",
       "3  Latest update broke some features, please fix ...              vi     3.8   \n",
       "4  Perfect for daily use, highly recommend to eve...              tl     3.2   \n",
       "\n",
       "           review_date  verified_purchase     device_type  num_helpful_votes  \\\n",
       "0  2024-10-09 19:26:40               True  Android Tablet                 65   \n",
       "1  2024-06-21 17:29:40               True            iPad                209   \n",
       "2  2024-10-31 13:47:12               True            iPad                163   \n",
       "3  2025-03-12 06:16:22               True             iOS                664   \n",
       "4  2024-04-21 03:48:27               True            iPad               1197   \n",
       "\n",
       "   user_age user_country        user_gender  app_version  \n",
       "0      14.0        China             Female          1.4  \n",
       "1      18.0      Germany               Male          8.9  \n",
       "2      67.0      Nigeria               Male  2.8.37.5926  \n",
       "3      66.0        India             Female         10.2  \n",
       "4      40.0  South Korea  Prefer not to say          4.7  "
      ]
     },
     "execution_count": 4,
     "metadata": {},
     "output_type": "execute_result"
    }
   ],
   "source": [
    "df.head()"
   ]
  },
  {
   "cell_type": "markdown",
   "id": "3bfc841b",
   "metadata": {},
   "source": [
    "df.head() -> fetches first five rows"
   ]
  },
  {
   "cell_type": "markdown",
   "id": "c8220dc1",
   "metadata": {},
   "source": [
    "# Types of DATA ANALYSIS"
   ]
  },
  {
   "cell_type": "markdown",
   "id": "5bea2b07",
   "metadata": {},
   "source": [
    "1) Descriptive analysis (avg,sum)\n",
    "2) Statistical analysis( mean,mode,standard deviations,central tendencies)\n",
    "3) Diagnostics\n",
    "4) predictive\n",
    "5) prescriptive\n",
    "6) infrential\n",
    "7) exploratory "
   ]
  },
  {
   "cell_type": "code",
   "execution_count": 5,
   "id": "5cf03f0b",
   "metadata": {},
   "outputs": [
    {
     "data": {
      "text/html": [
       "<div>\n",
       "<style scoped>\n",
       "    .dataframe tbody tr th:only-of-type {\n",
       "        vertical-align: middle;\n",
       "    }\n",
       "\n",
       "    .dataframe tbody tr th {\n",
       "        vertical-align: top;\n",
       "    }\n",
       "\n",
       "    .dataframe thead th {\n",
       "        text-align: right;\n",
       "    }\n",
       "</style>\n",
       "<table border=\"1\" class=\"dataframe\">\n",
       "  <thead>\n",
       "    <tr style=\"text-align: right;\">\n",
       "      <th></th>\n",
       "      <th>review_id</th>\n",
       "      <th>user_id</th>\n",
       "      <th>app_name</th>\n",
       "      <th>app_category</th>\n",
       "      <th>review_text</th>\n",
       "      <th>review_language</th>\n",
       "      <th>rating</th>\n",
       "      <th>review_date</th>\n",
       "      <th>verified_purchase</th>\n",
       "      <th>device_type</th>\n",
       "      <th>num_helpful_votes</th>\n",
       "      <th>user_age</th>\n",
       "      <th>user_country</th>\n",
       "      <th>user_gender</th>\n",
       "      <th>app_version</th>\n",
       "    </tr>\n",
       "  </thead>\n",
       "  <tbody>\n",
       "    <tr>\n",
       "      <th>2509</th>\n",
       "      <td>2510</td>\n",
       "      <td>2322118</td>\n",
       "      <td>OneDrive</td>\n",
       "      <td>Business</td>\n",
       "      <td>Счастье низкий пастух. Нож неожиданно поезд тр...</td>\n",
       "      <td>nl</td>\n",
       "      <td>3.0</td>\n",
       "      <td>2023-11-23 01:07:30</td>\n",
       "      <td>False</td>\n",
       "      <td>iOS</td>\n",
       "      <td>635</td>\n",
       "      <td>21.0</td>\n",
       "      <td>Malaysia</td>\n",
       "      <td>Non-binary</td>\n",
       "      <td>1.1.2-beta</td>\n",
       "    </tr>\n",
       "    <tr>\n",
       "      <th>2510</th>\n",
       "      <td>2511</td>\n",
       "      <td>2167693</td>\n",
       "      <td>Signal</td>\n",
       "      <td>Finance</td>\n",
       "      <td>This app is amazing! Really love the new featu...</td>\n",
       "      <td>ms</td>\n",
       "      <td>1.9</td>\n",
       "      <td>2025-06-05 16:42:20</td>\n",
       "      <td>True</td>\n",
       "      <td>Windows Phone</td>\n",
       "      <td>1127</td>\n",
       "      <td>38.0</td>\n",
       "      <td>Bangladesh</td>\n",
       "      <td>NaN</td>\n",
       "      <td>v12.0.80</td>\n",
       "    </tr>\n",
       "    <tr>\n",
       "      <th>2511</th>\n",
       "      <td>2512</td>\n",
       "      <td>5554467</td>\n",
       "      <td>OneDrive</td>\n",
       "      <td>Social Networking</td>\n",
       "      <td>This app is amazing! Really love the new featu...</td>\n",
       "      <td>zh</td>\n",
       "      <td>3.4</td>\n",
       "      <td>2024-06-15 05:02:18</td>\n",
       "      <td>True</td>\n",
       "      <td>Android Tablet</td>\n",
       "      <td>677</td>\n",
       "      <td>27.0</td>\n",
       "      <td>Pakistan</td>\n",
       "      <td>NaN</td>\n",
       "      <td>9.1.32.4821</td>\n",
       "    </tr>\n",
       "    <tr>\n",
       "      <th>2512</th>\n",
       "      <td>2513</td>\n",
       "      <td>8805125</td>\n",
       "      <td>Coursera</td>\n",
       "      <td>Social Networking</td>\n",
       "      <td>Invitare convincere pericoloso corsa fortuna. ...</td>\n",
       "      <td>da</td>\n",
       "      <td>2.7</td>\n",
       "      <td>2023-12-02 01:41:31</td>\n",
       "      <td>True</td>\n",
       "      <td>Android</td>\n",
       "      <td>155</td>\n",
       "      <td>35.0</td>\n",
       "      <td>India</td>\n",
       "      <td>NaN</td>\n",
       "      <td>v8.9.13</td>\n",
       "    </tr>\n",
       "    <tr>\n",
       "      <th>2513</th>\n",
       "      <td>2514</td>\n",
       "      <td>1099793</td>\n",
       "      <td>Venmo</td>\n",
       "      <td>Education</td>\n",
       "      <td>Latest update broke some features, please fix ...</td>\n",
       "      <td>it</td>\n",
       "      <td>2.1</td>\n",
       "      <td>2025-03-04 02:51:17</td>\n",
       "      <td>True</td>\n",
       "      <td>Android</td>\n",
       "      <td>1040</td>\n",
       "      <td>26.0</td>\n",
       "      <td>Bangladesh</td>\n",
       "      <td>Prefer not to say</td>\n",
       "      <td>2.2</td>\n",
       "    </tr>\n",
       "  </tbody>\n",
       "</table>\n",
       "</div>"
      ],
      "text/plain": [
       "      review_id  user_id  app_name       app_category  \\\n",
       "2509       2510  2322118  OneDrive           Business   \n",
       "2510       2511  2167693    Signal            Finance   \n",
       "2511       2512  5554467  OneDrive  Social Networking   \n",
       "2512       2513  8805125  Coursera  Social Networking   \n",
       "2513       2514  1099793     Venmo          Education   \n",
       "\n",
       "                                            review_text review_language  \\\n",
       "2509  Счастье низкий пастух. Нож неожиданно поезд тр...              nl   \n",
       "2510  This app is amazing! Really love the new featu...              ms   \n",
       "2511  This app is amazing! Really love the new featu...              zh   \n",
       "2512  Invitare convincere pericoloso corsa fortuna. ...              da   \n",
       "2513  Latest update broke some features, please fix ...              it   \n",
       "\n",
       "      rating          review_date  verified_purchase     device_type  \\\n",
       "2509     3.0  2023-11-23 01:07:30              False             iOS   \n",
       "2510     1.9  2025-06-05 16:42:20               True   Windows Phone   \n",
       "2511     3.4  2024-06-15 05:02:18               True  Android Tablet   \n",
       "2512     2.7  2023-12-02 01:41:31               True         Android   \n",
       "2513     2.1  2025-03-04 02:51:17               True         Android   \n",
       "\n",
       "      num_helpful_votes  user_age user_country        user_gender  app_version  \n",
       "2509                635      21.0     Malaysia         Non-binary   1.1.2-beta  \n",
       "2510               1127      38.0   Bangladesh                NaN     v12.0.80  \n",
       "2511                677      27.0     Pakistan                NaN  9.1.32.4821  \n",
       "2512                155      35.0        India                NaN      v8.9.13  \n",
       "2513               1040      26.0   Bangladesh  Prefer not to say          2.2  "
      ]
     },
     "execution_count": 5,
     "metadata": {},
     "output_type": "execute_result"
    }
   ],
   "source": [
    "df.tail()"
   ]
  },
  {
   "cell_type": "markdown",
   "id": "d4c29c74",
   "metadata": {},
   "source": [
    "df.tail() -> fetches last five rows"
   ]
  },
  {
   "cell_type": "code",
   "execution_count": 6,
   "id": "25f9883e",
   "metadata": {},
   "outputs": [],
   "source": [
    "pf = pd.read_csv(\"/Esyasoft_basic_training/Python/pandas_methods/datasets.csv\")  "
   ]
  },
  {
   "cell_type": "code",
   "execution_count": 7,
   "id": "27f29796",
   "metadata": {},
   "outputs": [
    {
     "data": {
      "text/html": [
       "<div>\n",
       "<style scoped>\n",
       "    .dataframe tbody tr th:only-of-type {\n",
       "        vertical-align: middle;\n",
       "    }\n",
       "\n",
       "    .dataframe tbody tr th {\n",
       "        vertical-align: top;\n",
       "    }\n",
       "\n",
       "    .dataframe thead th {\n",
       "        text-align: right;\n",
       "    }\n",
       "</style>\n",
       "<table border=\"1\" class=\"dataframe\">\n",
       "  <thead>\n",
       "    <tr style=\"text-align: right;\">\n",
       "      <th></th>\n",
       "      <th>datasetName</th>\n",
       "      <th>about</th>\n",
       "      <th>link</th>\n",
       "      <th>categoryName</th>\n",
       "      <th>cloud</th>\n",
       "      <th>vintage</th>\n",
       "    </tr>\n",
       "  </thead>\n",
       "  <tbody>\n",
       "    <tr>\n",
       "      <th>0</th>\n",
       "      <td>Microbiome Project</td>\n",
       "      <td>American Gut (Microbiome Project)</td>\n",
       "      <td>https://github.com/biocore/American-Gut</td>\n",
       "      <td>Biology</td>\n",
       "      <td>GitHub</td>\n",
       "      <td>NaN</td>\n",
       "    </tr>\n",
       "    <tr>\n",
       "      <th>1</th>\n",
       "      <td>GloBI</td>\n",
       "      <td>Global Biotic Interactions (GloBI)</td>\n",
       "      <td>https://github.com/jhpoelen/eol-globi-data/wik...</td>\n",
       "      <td>Biology</td>\n",
       "      <td>GitHub</td>\n",
       "      <td>NaN</td>\n",
       "    </tr>\n",
       "    <tr>\n",
       "      <th>2</th>\n",
       "      <td>Global Climate</td>\n",
       "      <td>Global Climate Data Since 1929</td>\n",
       "      <td>http://en.tutiempo.net/climate</td>\n",
       "      <td>Climate/Weather</td>\n",
       "      <td>NaN</td>\n",
       "      <td>1929.0</td>\n",
       "    </tr>\n",
       "    <tr>\n",
       "      <th>3</th>\n",
       "      <td>CommonCraw 2012</td>\n",
       "      <td>3.5B Web Pages from CommonCraw 2012</td>\n",
       "      <td>http://www.bigdatanews.com/profiles/blogs/big-...</td>\n",
       "      <td>Computer Networks</td>\n",
       "      <td>NaN</td>\n",
       "      <td>2012.0</td>\n",
       "    </tr>\n",
       "    <tr>\n",
       "      <th>4</th>\n",
       "      <td>Indiana Webclicks</td>\n",
       "      <td>53.5B Web clicks of 100K users in Indiana Univ.</td>\n",
       "      <td>http://cnets.indiana.edu/groups/nan/webtraffic...</td>\n",
       "      <td>Computer Networks</td>\n",
       "      <td>NaN</td>\n",
       "      <td>NaN</td>\n",
       "    </tr>\n",
       "    <tr>\n",
       "      <th>...</th>\n",
       "      <td>...</td>\n",
       "      <td>...</td>\n",
       "      <td>...</td>\n",
       "      <td>...</td>\n",
       "      <td>...</td>\n",
       "      <td>...</td>\n",
       "    </tr>\n",
       "    <tr>\n",
       "      <th>56</th>\n",
       "      <td>ClueWeb12 FACC</td>\n",
       "      <td>ClueWeb12 FACC</td>\n",
       "      <td>http://lemurproject.org/clueweb12/FACC1/</td>\n",
       "      <td>Natural Language</td>\n",
       "      <td>NaN</td>\n",
       "      <td>2012.0</td>\n",
       "    </tr>\n",
       "    <tr>\n",
       "      <th>57</th>\n",
       "      <td>Google Ngrams</td>\n",
       "      <td>Google Books Ngrams (2.2TB)</td>\n",
       "      <td>https://aws.amazon.com/datasets/google-books-n...</td>\n",
       "      <td>Natural Language</td>\n",
       "      <td>Amazon</td>\n",
       "      <td>NaN</td>\n",
       "    </tr>\n",
       "    <tr>\n",
       "      <th>58</th>\n",
       "      <td>EDRM Enron</td>\n",
       "      <td>EDRM Enron EMail of 151 users, hosted on S3</td>\n",
       "      <td>https://aws.amazon.com/datasets/enron-email-data/</td>\n",
       "      <td>Social Networks</td>\n",
       "      <td>Amazon</td>\n",
       "      <td>NaN</td>\n",
       "    </tr>\n",
       "    <tr>\n",
       "      <th>59</th>\n",
       "      <td>GetGlue</td>\n",
       "      <td>GetGlue - users rating TV shows</td>\n",
       "      <td>http://getglue-data.s3.amazonaws.com/getglue_s...</td>\n",
       "      <td>Social Networks</td>\n",
       "      <td>NaN</td>\n",
       "      <td>NaN</td>\n",
       "    </tr>\n",
       "    <tr>\n",
       "      <th>60</th>\n",
       "      <td>Twitter RepLab</td>\n",
       "      <td>Twitter Data for Online Reputation Management</td>\n",
       "      <td>http://nlp.uned.es/replab2013/</td>\n",
       "      <td>Social Networks</td>\n",
       "      <td>NaN</td>\n",
       "      <td>2013.0</td>\n",
       "    </tr>\n",
       "  </tbody>\n",
       "</table>\n",
       "<p>61 rows × 6 columns</p>\n",
       "</div>"
      ],
      "text/plain": [
       "           datasetName                                            about  \\\n",
       "0   Microbiome Project                American Gut (Microbiome Project)   \n",
       "1                GloBI               Global Biotic Interactions (GloBI)   \n",
       "2       Global Climate                   Global Climate Data Since 1929   \n",
       "3      CommonCraw 2012              3.5B Web Pages from CommonCraw 2012   \n",
       "4    Indiana Webclicks  53.5B Web clicks of 100K users in Indiana Univ.   \n",
       "..                 ...                                              ...   \n",
       "56      ClueWeb12 FACC                                   ClueWeb12 FACC   \n",
       "57       Google Ngrams                      Google Books Ngrams (2.2TB)   \n",
       "58          EDRM Enron      EDRM Enron EMail of 151 users, hosted on S3   \n",
       "59             GetGlue                  GetGlue - users rating TV shows   \n",
       "60      Twitter RepLab    Twitter Data for Online Reputation Management   \n",
       "\n",
       "                                                 link       categoryName  \\\n",
       "0             https://github.com/biocore/American-Gut            Biology   \n",
       "1   https://github.com/jhpoelen/eol-globi-data/wik...            Biology   \n",
       "2                      http://en.tutiempo.net/climate    Climate/Weather   \n",
       "3   http://www.bigdatanews.com/profiles/blogs/big-...  Computer Networks   \n",
       "4   http://cnets.indiana.edu/groups/nan/webtraffic...  Computer Networks   \n",
       "..                                                ...                ...   \n",
       "56           http://lemurproject.org/clueweb12/FACC1/   Natural Language   \n",
       "57  https://aws.amazon.com/datasets/google-books-n...   Natural Language   \n",
       "58  https://aws.amazon.com/datasets/enron-email-data/    Social Networks   \n",
       "59  http://getglue-data.s3.amazonaws.com/getglue_s...    Social Networks   \n",
       "60                     http://nlp.uned.es/replab2013/    Social Networks   \n",
       "\n",
       "     cloud  vintage  \n",
       "0   GitHub      NaN  \n",
       "1   GitHub      NaN  \n",
       "2      NaN   1929.0  \n",
       "3      NaN   2012.0  \n",
       "4      NaN      NaN  \n",
       "..     ...      ...  \n",
       "56     NaN   2012.0  \n",
       "57  Amazon      NaN  \n",
       "58  Amazon      NaN  \n",
       "59     NaN      NaN  \n",
       "60     NaN   2013.0  \n",
       "\n",
       "[61 rows x 6 columns]"
      ]
     },
     "execution_count": 7,
     "metadata": {},
     "output_type": "execute_result"
    }
   ],
   "source": [
    "pf"
   ]
  },
  {
   "cell_type": "code",
   "execution_count": null,
   "id": "0d99b72c",
   "metadata": {},
   "outputs": [],
   "source": []
  },
  {
   "cell_type": "markdown",
   "id": "bcf073db",
   "metadata": {},
   "source": [
    "# dropping irrelevant colums\n"
   ]
  },
  {
   "cell_type": "markdown",
   "id": "589e80cf",
   "metadata": {},
   "source": [
    "pf = pf.drop('about')"
   ]
  },
  {
   "cell_type": "code",
   "execution_count": 9,
   "id": "27bcf4da",
   "metadata": {},
   "outputs": [],
   "source": [
    "pf = pf.drop('about', axis=1)"
   ]
  },
  {
   "cell_type": "markdown",
   "id": "87dfa49c",
   "metadata": {},
   "source": [
    "for deleting columns axis=1 and for deletion of rows axis=0"
   ]
  },
  {
   "cell_type": "code",
   "execution_count": 10,
   "id": "0d8cb738",
   "metadata": {},
   "outputs": [
    {
     "data": {
      "text/html": [
       "<div>\n",
       "<style scoped>\n",
       "    .dataframe tbody tr th:only-of-type {\n",
       "        vertical-align: middle;\n",
       "    }\n",
       "\n",
       "    .dataframe tbody tr th {\n",
       "        vertical-align: top;\n",
       "    }\n",
       "\n",
       "    .dataframe thead th {\n",
       "        text-align: right;\n",
       "    }\n",
       "</style>\n",
       "<table border=\"1\" class=\"dataframe\">\n",
       "  <thead>\n",
       "    <tr style=\"text-align: right;\">\n",
       "      <th></th>\n",
       "      <th>datasetName</th>\n",
       "      <th>link</th>\n",
       "      <th>categoryName</th>\n",
       "      <th>cloud</th>\n",
       "      <th>vintage</th>\n",
       "    </tr>\n",
       "  </thead>\n",
       "  <tbody>\n",
       "    <tr>\n",
       "      <th>0</th>\n",
       "      <td>Microbiome Project</td>\n",
       "      <td>https://github.com/biocore/American-Gut</td>\n",
       "      <td>Biology</td>\n",
       "      <td>GitHub</td>\n",
       "      <td>NaN</td>\n",
       "    </tr>\n",
       "    <tr>\n",
       "      <th>1</th>\n",
       "      <td>GloBI</td>\n",
       "      <td>https://github.com/jhpoelen/eol-globi-data/wik...</td>\n",
       "      <td>Biology</td>\n",
       "      <td>GitHub</td>\n",
       "      <td>NaN</td>\n",
       "    </tr>\n",
       "    <tr>\n",
       "      <th>2</th>\n",
       "      <td>Global Climate</td>\n",
       "      <td>http://en.tutiempo.net/climate</td>\n",
       "      <td>Climate/Weather</td>\n",
       "      <td>NaN</td>\n",
       "      <td>1929.0</td>\n",
       "    </tr>\n",
       "    <tr>\n",
       "      <th>3</th>\n",
       "      <td>CommonCraw 2012</td>\n",
       "      <td>http://www.bigdatanews.com/profiles/blogs/big-...</td>\n",
       "      <td>Computer Networks</td>\n",
       "      <td>NaN</td>\n",
       "      <td>2012.0</td>\n",
       "    </tr>\n",
       "    <tr>\n",
       "      <th>4</th>\n",
       "      <td>Indiana Webclicks</td>\n",
       "      <td>http://cnets.indiana.edu/groups/nan/webtraffic...</td>\n",
       "      <td>Computer Networks</td>\n",
       "      <td>NaN</td>\n",
       "      <td>NaN</td>\n",
       "    </tr>\n",
       "  </tbody>\n",
       "</table>\n",
       "</div>"
      ],
      "text/plain": [
       "          datasetName                                               link  \\\n",
       "0  Microbiome Project            https://github.com/biocore/American-Gut   \n",
       "1               GloBI  https://github.com/jhpoelen/eol-globi-data/wik...   \n",
       "2      Global Climate                     http://en.tutiempo.net/climate   \n",
       "3     CommonCraw 2012  http://www.bigdatanews.com/profiles/blogs/big-...   \n",
       "4   Indiana Webclicks  http://cnets.indiana.edu/groups/nan/webtraffic...   \n",
       "\n",
       "        categoryName   cloud  vintage  \n",
       "0            Biology  GitHub      NaN  \n",
       "1            Biology  GitHub      NaN  \n",
       "2    Climate/Weather     NaN   1929.0  \n",
       "3  Computer Networks     NaN   2012.0  \n",
       "4  Computer Networks     NaN      NaN  "
      ]
     },
     "execution_count": 10,
     "metadata": {},
     "output_type": "execute_result"
    }
   ],
   "source": [
    "pf.head()"
   ]
  },
  {
   "cell_type": "code",
   "execution_count": 11,
   "id": "37025349",
   "metadata": {},
   "outputs": [
    {
     "data": {
      "text/plain": [
       "review_id              int64\n",
       "user_id                int64\n",
       "app_name              object\n",
       "app_category          object\n",
       "review_text           object\n",
       "review_language       object\n",
       "rating               float64\n",
       "review_date           object\n",
       "verified_purchase       bool\n",
       "device_type           object\n",
       "num_helpful_votes      int64\n",
       "user_age             float64\n",
       "user_country          object\n",
       "user_gender           object\n",
       "app_version           object\n",
       "dtype: object"
      ]
     },
     "execution_count": 11,
     "metadata": {},
     "output_type": "execute_result"
    }
   ],
   "source": [
    "df.dtypes"
   ]
  },
  {
   "cell_type": "code",
   "execution_count": 12,
   "id": "02775ef8",
   "metadata": {},
   "outputs": [],
   "source": [
    "pf.rename(columns={'datasetName' : 'Names'}, inplace =True)"
   ]
  },
  {
   "cell_type": "code",
   "execution_count": 13,
   "id": "17fb9ed8",
   "metadata": {},
   "outputs": [
    {
     "data": {
      "text/html": [
       "<div>\n",
       "<style scoped>\n",
       "    .dataframe tbody tr th:only-of-type {\n",
       "        vertical-align: middle;\n",
       "    }\n",
       "\n",
       "    .dataframe tbody tr th {\n",
       "        vertical-align: top;\n",
       "    }\n",
       "\n",
       "    .dataframe thead th {\n",
       "        text-align: right;\n",
       "    }\n",
       "</style>\n",
       "<table border=\"1\" class=\"dataframe\">\n",
       "  <thead>\n",
       "    <tr style=\"text-align: right;\">\n",
       "      <th></th>\n",
       "      <th>Names</th>\n",
       "      <th>link</th>\n",
       "      <th>categoryName</th>\n",
       "      <th>cloud</th>\n",
       "      <th>vintage</th>\n",
       "    </tr>\n",
       "  </thead>\n",
       "  <tbody>\n",
       "    <tr>\n",
       "      <th>0</th>\n",
       "      <td>Microbiome Project</td>\n",
       "      <td>https://github.com/biocore/American-Gut</td>\n",
       "      <td>Biology</td>\n",
       "      <td>GitHub</td>\n",
       "      <td>NaN</td>\n",
       "    </tr>\n",
       "    <tr>\n",
       "      <th>1</th>\n",
       "      <td>GloBI</td>\n",
       "      <td>https://github.com/jhpoelen/eol-globi-data/wik...</td>\n",
       "      <td>Biology</td>\n",
       "      <td>GitHub</td>\n",
       "      <td>NaN</td>\n",
       "    </tr>\n",
       "    <tr>\n",
       "      <th>2</th>\n",
       "      <td>Global Climate</td>\n",
       "      <td>http://en.tutiempo.net/climate</td>\n",
       "      <td>Climate/Weather</td>\n",
       "      <td>NaN</td>\n",
       "      <td>1929.0</td>\n",
       "    </tr>\n",
       "    <tr>\n",
       "      <th>3</th>\n",
       "      <td>CommonCraw 2012</td>\n",
       "      <td>http://www.bigdatanews.com/profiles/blogs/big-...</td>\n",
       "      <td>Computer Networks</td>\n",
       "      <td>NaN</td>\n",
       "      <td>2012.0</td>\n",
       "    </tr>\n",
       "    <tr>\n",
       "      <th>4</th>\n",
       "      <td>Indiana Webclicks</td>\n",
       "      <td>http://cnets.indiana.edu/groups/nan/webtraffic...</td>\n",
       "      <td>Computer Networks</td>\n",
       "      <td>NaN</td>\n",
       "      <td>NaN</td>\n",
       "    </tr>\n",
       "  </tbody>\n",
       "</table>\n",
       "</div>"
      ],
      "text/plain": [
       "                Names                                               link  \\\n",
       "0  Microbiome Project            https://github.com/biocore/American-Gut   \n",
       "1               GloBI  https://github.com/jhpoelen/eol-globi-data/wik...   \n",
       "2      Global Climate                     http://en.tutiempo.net/climate   \n",
       "3     CommonCraw 2012  http://www.bigdatanews.com/profiles/blogs/big-...   \n",
       "4   Indiana Webclicks  http://cnets.indiana.edu/groups/nan/webtraffic...   \n",
       "\n",
       "        categoryName   cloud  vintage  \n",
       "0            Biology  GitHub      NaN  \n",
       "1            Biology  GitHub      NaN  \n",
       "2    Climate/Weather     NaN   1929.0  \n",
       "3  Computer Networks     NaN   2012.0  \n",
       "4  Computer Networks     NaN      NaN  "
      ]
     },
     "execution_count": 13,
     "metadata": {},
     "output_type": "execute_result"
    }
   ],
   "source": [
    "pf.head()"
   ]
  },
  {
   "cell_type": "code",
   "execution_count": 14,
   "id": "7f5292fd",
   "metadata": {},
   "outputs": [
    {
     "name": "stdout",
     "output_type": "stream",
     "text": [
      "<class 'pandas.core.frame.DataFrame'>\n",
      "RangeIndex: 61 entries, 0 to 60\n",
      "Data columns (total 5 columns):\n",
      " #   Column        Non-Null Count  Dtype  \n",
      "---  ------        --------------  -----  \n",
      " 0   Names         61 non-null     object \n",
      " 1   link          61 non-null     object \n",
      " 2   categoryName  61 non-null     object \n",
      " 3   cloud         24 non-null     object \n",
      " 4   vintage       31 non-null     float64\n",
      "dtypes: float64(1), object(4)\n",
      "memory usage: 2.5+ KB\n"
     ]
    }
   ],
   "source": [
    "pf.info()"
   ]
  },
  {
   "cell_type": "markdown",
   "id": "f07f87d7",
   "metadata": {},
   "source": [
    "pf.rename(columns= {'oldName' : 'newName', 'secondcolumn' : 'newname'}, inplace = True) -> To rename the columns"
   ]
  },
  {
   "cell_type": "markdown",
   "id": "dd6a8ede",
   "metadata": {},
   "source": [
    "df.info() -> give the info about columns "
   ]
  },
  {
   "cell_type": "markdown",
   "id": "1f15f53f",
   "metadata": {},
   "source": [
    "# statistical Analysis"
   ]
  },
  {
   "cell_type": "markdown",
   "id": "856001b5",
   "metadata": {},
   "source": [
    "pf.describe() -> gives the stastical analysis "
   ]
  },
  {
   "cell_type": "code",
   "execution_count": 15,
   "id": "6e2c255e",
   "metadata": {},
   "outputs": [
    {
     "data": {
      "text/html": [
       "<div>\n",
       "<style scoped>\n",
       "    .dataframe tbody tr th:only-of-type {\n",
       "        vertical-align: middle;\n",
       "    }\n",
       "\n",
       "    .dataframe tbody tr th {\n",
       "        vertical-align: top;\n",
       "    }\n",
       "\n",
       "    .dataframe thead th {\n",
       "        text-align: right;\n",
       "    }\n",
       "</style>\n",
       "<table border=\"1\" class=\"dataframe\">\n",
       "  <thead>\n",
       "    <tr style=\"text-align: right;\">\n",
       "      <th></th>\n",
       "      <th>vintage</th>\n",
       "    </tr>\n",
       "  </thead>\n",
       "  <tbody>\n",
       "    <tr>\n",
       "      <th>count</th>\n",
       "      <td>31.000000</td>\n",
       "    </tr>\n",
       "    <tr>\n",
       "      <th>mean</th>\n",
       "      <td>2000.677419</td>\n",
       "    </tr>\n",
       "    <tr>\n",
       "      <th>std</th>\n",
       "      <td>24.436840</td>\n",
       "    </tr>\n",
       "    <tr>\n",
       "      <th>min</th>\n",
       "      <td>1920.000000</td>\n",
       "    </tr>\n",
       "    <tr>\n",
       "      <th>25%</th>\n",
       "      <td>2006.500000</td>\n",
       "    </tr>\n",
       "    <tr>\n",
       "      <th>50%</th>\n",
       "      <td>2009.000000</td>\n",
       "    </tr>\n",
       "    <tr>\n",
       "      <th>75%</th>\n",
       "      <td>2012.000000</td>\n",
       "    </tr>\n",
       "    <tr>\n",
       "      <th>max</th>\n",
       "      <td>2016.000000</td>\n",
       "    </tr>\n",
       "  </tbody>\n",
       "</table>\n",
       "</div>"
      ],
      "text/plain": [
       "           vintage\n",
       "count    31.000000\n",
       "mean   2000.677419\n",
       "std      24.436840\n",
       "min    1920.000000\n",
       "25%    2006.500000\n",
       "50%    2009.000000\n",
       "75%    2012.000000\n",
       "max    2016.000000"
      ]
     },
     "execution_count": 15,
     "metadata": {},
     "output_type": "execute_result"
    }
   ],
   "source": [
    "pf.describe()"
   ]
  },
  {
   "cell_type": "markdown",
   "id": "bc9ba41b",
   "metadata": {},
   "source": [
    "## Dropping duplicate rows"
   ]
  },
  {
   "cell_type": "code",
   "execution_count": 16,
   "id": "bef305d4",
   "metadata": {},
   "outputs": [
    {
     "data": {
      "text/plain": [
       "(61, 5)"
      ]
     },
     "execution_count": 16,
     "metadata": {},
     "output_type": "execute_result"
    }
   ],
   "source": [
    "pf.shape"
   ]
  },
  {
   "cell_type": "markdown",
   "id": "9205a803",
   "metadata": {},
   "source": [
    "pf.shape -> total rows and columns"
   ]
  },
  {
   "cell_type": "code",
   "execution_count": 17,
   "id": "c2d986fd",
   "metadata": {},
   "outputs": [
    {
     "name": "stdout",
     "output_type": "stream",
     "text": [
      "no of duplicate rows : (0, 5)\n"
     ]
    }
   ],
   "source": [
    "duplicates = pf[pf.duplicated()]\n",
    "print(\"no of duplicate rows :\" , duplicates.shape)"
   ]
  },
  {
   "cell_type": "markdown",
   "id": "a8c03d81",
   "metadata": {},
   "source": [
    "df.count()"
   ]
  },
  {
   "cell_type": "code",
   "execution_count": 18,
   "id": "acd78c69",
   "metadata": {},
   "outputs": [
    {
     "data": {
      "text/plain": [
       "Names           61\n",
       "link            61\n",
       "categoryName    61\n",
       "cloud           24\n",
       "vintage         31\n",
       "dtype: int64"
      ]
     },
     "execution_count": 18,
     "metadata": {},
     "output_type": "execute_result"
    }
   ],
   "source": [
    "pf.count()"
   ]
  },
  {
   "cell_type": "code",
   "execution_count": 19,
   "id": "62d46d81",
   "metadata": {},
   "outputs": [
    {
     "data": {
      "text/html": [
       "<div>\n",
       "<style scoped>\n",
       "    .dataframe tbody tr th:only-of-type {\n",
       "        vertical-align: middle;\n",
       "    }\n",
       "\n",
       "    .dataframe tbody tr th {\n",
       "        vertical-align: top;\n",
       "    }\n",
       "\n",
       "    .dataframe thead th {\n",
       "        text-align: right;\n",
       "    }\n",
       "</style>\n",
       "<table border=\"1\" class=\"dataframe\">\n",
       "  <thead>\n",
       "    <tr style=\"text-align: right;\">\n",
       "      <th></th>\n",
       "      <th>Names</th>\n",
       "      <th>link</th>\n",
       "      <th>categoryName</th>\n",
       "      <th>cloud</th>\n",
       "      <th>vintage</th>\n",
       "    </tr>\n",
       "  </thead>\n",
       "  <tbody>\n",
       "    <tr>\n",
       "      <th>0</th>\n",
       "      <td>Microbiome Project</td>\n",
       "      <td>https://github.com/biocore/American-Gut</td>\n",
       "      <td>Biology</td>\n",
       "      <td>GitHub</td>\n",
       "      <td>NaN</td>\n",
       "    </tr>\n",
       "    <tr>\n",
       "      <th>1</th>\n",
       "      <td>GloBI</td>\n",
       "      <td>https://github.com/jhpoelen/eol-globi-data/wik...</td>\n",
       "      <td>Biology</td>\n",
       "      <td>GitHub</td>\n",
       "      <td>NaN</td>\n",
       "    </tr>\n",
       "    <tr>\n",
       "      <th>2</th>\n",
       "      <td>Global Climate</td>\n",
       "      <td>http://en.tutiempo.net/climate</td>\n",
       "      <td>Climate/Weather</td>\n",
       "      <td>NaN</td>\n",
       "      <td>1929.0</td>\n",
       "    </tr>\n",
       "    <tr>\n",
       "      <th>3</th>\n",
       "      <td>CommonCraw 2012</td>\n",
       "      <td>http://www.bigdatanews.com/profiles/blogs/big-...</td>\n",
       "      <td>Computer Networks</td>\n",
       "      <td>NaN</td>\n",
       "      <td>2012.0</td>\n",
       "    </tr>\n",
       "    <tr>\n",
       "      <th>4</th>\n",
       "      <td>Indiana Webclicks</td>\n",
       "      <td>http://cnets.indiana.edu/groups/nan/webtraffic...</td>\n",
       "      <td>Computer Networks</td>\n",
       "      <td>NaN</td>\n",
       "      <td>NaN</td>\n",
       "    </tr>\n",
       "  </tbody>\n",
       "</table>\n",
       "</div>"
      ],
      "text/plain": [
       "                Names                                               link  \\\n",
       "0  Microbiome Project            https://github.com/biocore/American-Gut   \n",
       "1               GloBI  https://github.com/jhpoelen/eol-globi-data/wik...   \n",
       "2      Global Climate                     http://en.tutiempo.net/climate   \n",
       "3     CommonCraw 2012  http://www.bigdatanews.com/profiles/blogs/big-...   \n",
       "4   Indiana Webclicks  http://cnets.indiana.edu/groups/nan/webtraffic...   \n",
       "\n",
       "        categoryName   cloud  vintage  \n",
       "0            Biology  GitHub      NaN  \n",
       "1            Biology  GitHub      NaN  \n",
       "2    Climate/Weather     NaN   1929.0  \n",
       "3  Computer Networks     NaN   2012.0  \n",
       "4  Computer Networks     NaN      NaN  "
      ]
     },
     "execution_count": 19,
     "metadata": {},
     "output_type": "execute_result"
    }
   ],
   "source": [
    "pf = pf.drop_duplicates()\n",
    "pf.head()"
   ]
  },
  {
   "cell_type": "code",
   "execution_count": 20,
   "id": "3249a68f",
   "metadata": {},
   "outputs": [
    {
     "data": {
      "text/plain": [
       "Names           61\n",
       "link            61\n",
       "categoryName    61\n",
       "cloud           24\n",
       "vintage         31\n",
       "dtype: int64"
      ]
     },
     "execution_count": 20,
     "metadata": {},
     "output_type": "execute_result"
    }
   ],
   "source": [
    "pf.count()"
   ]
  },
  {
   "cell_type": "code",
   "execution_count": 21,
   "id": "11602cfa",
   "metadata": {},
   "outputs": [
    {
     "data": {
      "text/plain": [
       "(61, 5)"
      ]
     },
     "execution_count": 21,
     "metadata": {},
     "output_type": "execute_result"
    }
   ],
   "source": [
    "pf.shape"
   ]
  },
  {
   "cell_type": "markdown",
   "id": "d5392d3f",
   "metadata": {},
   "source": [
    "### Dropping missing or Null values"
   ]
  },
  {
   "cell_type": "markdown",
   "id": "8fa0da6f",
   "metadata": {},
   "source": [
    "pf.isnull.sum() -> gives the no of nul values in a column"
   ]
  },
  {
   "cell_type": "code",
   "execution_count": 22,
   "id": "593a9c77",
   "metadata": {},
   "outputs": [
    {
     "name": "stdout",
     "output_type": "stream",
     "text": [
      "Names            0\n",
      "link             0\n",
      "categoryName     0\n",
      "cloud           37\n",
      "vintage         30\n",
      "dtype: int64\n"
     ]
    }
   ],
   "source": [
    "print(pf.isnull().sum())"
   ]
  },
  {
   "cell_type": "markdown",
   "id": "0778cec8",
   "metadata": {},
   "source": [
    "pf.dropna() -> dropping the rows which has null values"
   ]
  },
  {
   "cell_type": "code",
   "execution_count": 23,
   "id": "ae4f951d",
   "metadata": {},
   "outputs": [],
   "source": [
    "pf = pf.dropna()"
   ]
  },
  {
   "cell_type": "code",
   "execution_count": 24,
   "id": "b5ad08a2",
   "metadata": {},
   "outputs": [
    {
     "data": {
      "text/plain": [
       "Names           2\n",
       "link            2\n",
       "categoryName    2\n",
       "cloud           2\n",
       "vintage         2\n",
       "dtype: int64"
      ]
     },
     "execution_count": 24,
     "metadata": {},
     "output_type": "execute_result"
    }
   ],
   "source": [
    "pf.count()"
   ]
  },
  {
   "cell_type": "code",
   "execution_count": 25,
   "id": "64bae72d",
   "metadata": {},
   "outputs": [
    {
     "data": {
      "text/plain": [
       "(2, 5)"
      ]
     },
     "execution_count": 25,
     "metadata": {},
     "output_type": "execute_result"
    }
   ],
   "source": [
    "pf.shape"
   ]
  },
  {
   "cell_type": "code",
   "execution_count": 26,
   "id": "63bff82a",
   "metadata": {},
   "outputs": [
    {
     "name": "stdout",
     "output_type": "stream",
     "text": [
      "Names           0\n",
      "link            0\n",
      "categoryName    0\n",
      "cloud           0\n",
      "vintage         0\n",
      "dtype: int64\n"
     ]
    }
   ],
   "source": [
    "print(pf.isnull().sum())"
   ]
  },
  {
   "cell_type": "code",
   "execution_count": 27,
   "id": "509bde06",
   "metadata": {},
   "outputs": [
    {
     "data": {
      "text/html": [
       "<div>\n",
       "<style scoped>\n",
       "    .dataframe tbody tr th:only-of-type {\n",
       "        vertical-align: middle;\n",
       "    }\n",
       "\n",
       "    .dataframe tbody tr th {\n",
       "        vertical-align: top;\n",
       "    }\n",
       "\n",
       "    .dataframe thead th {\n",
       "        text-align: right;\n",
       "    }\n",
       "</style>\n",
       "<table border=\"1\" class=\"dataframe\">\n",
       "  <thead>\n",
       "    <tr style=\"text-align: right;\">\n",
       "      <th></th>\n",
       "      <th>Names</th>\n",
       "      <th>link</th>\n",
       "      <th>categoryName</th>\n",
       "      <th>cloud</th>\n",
       "      <th>vintage</th>\n",
       "    </tr>\n",
       "  </thead>\n",
       "  <tbody>\n",
       "    <tr>\n",
       "      <th>32</th>\n",
       "      <td>FBI Hate Crime 2013</td>\n",
       "      <td>https://github.com/emorisse/FBI-Hate-Crime-Sta...</td>\n",
       "      <td>Social Sciences</td>\n",
       "      <td>GitHub</td>\n",
       "      <td>2013.0</td>\n",
       "    </tr>\n",
       "    <tr>\n",
       "      <th>41</th>\n",
       "      <td>NYC Uber</td>\n",
       "      <td>https://github.com/fivethirtyeight/uber-tlc-fo...</td>\n",
       "      <td>Transportation</td>\n",
       "      <td>GitHub</td>\n",
       "      <td>2014.0</td>\n",
       "    </tr>\n",
       "  </tbody>\n",
       "</table>\n",
       "</div>"
      ],
      "text/plain": [
       "                  Names                                               link  \\\n",
       "32  FBI Hate Crime 2013  https://github.com/emorisse/FBI-Hate-Crime-Sta...   \n",
       "41             NYC Uber  https://github.com/fivethirtyeight/uber-tlc-fo...   \n",
       "\n",
       "       categoryName   cloud  vintage  \n",
       "32  Social Sciences  GitHub   2013.0  \n",
       "41   Transportation  GitHub   2014.0  "
      ]
     },
     "execution_count": 27,
     "metadata": {},
     "output_type": "execute_result"
    }
   ],
   "source": [
    "pf.head()"
   ]
  },
  {
   "cell_type": "code",
   "execution_count": null,
   "id": "8f1babb9",
   "metadata": {},
   "outputs": [],
   "source": []
  }
 ],
 "metadata": {
  "kernelspec": {
   "display_name": "Python 3",
   "language": "python",
   "name": "python3"
  },
  "language_info": {
   "codemirror_mode": {
    "name": "ipython",
    "version": 3
   },
   "file_extension": ".py",
   "mimetype": "text/x-python",
   "name": "python",
   "nbconvert_exporter": "python",
   "pygments_lexer": "ipython3",
   "version": "3.13.7"
  }
 },
 "nbformat": 4,
 "nbformat_minor": 5
}
